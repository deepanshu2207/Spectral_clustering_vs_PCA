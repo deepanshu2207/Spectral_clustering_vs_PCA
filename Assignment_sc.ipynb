{
 "cells": [
  {
   "cell_type": "code",
   "execution_count": 514,
   "metadata": {},
   "outputs": [],
   "source": [
    "# Import all useful libraries\n",
    "import pandas as pd\n",
    "import numpy as np\n",
    "from scipy import linalg\n",
    "from sklearn.neighbors import kneighbors_graph\n",
    "from scipy import sparse"
   ]
  },
  {
   "cell_type": "code",
   "execution_count": 515,
   "metadata": {},
   "outputs": [],
   "source": [
    "# Making array for column names\n",
    "names_fou =np.array(list(range(1,77)))\n",
    "names_fac =np.array(list(range(1,217)))\n",
    "names_kar =np.array(list(range(1,65)))\n",
    "names_pix =np.array(list(range(1,241)))\n",
    "names_zer =np.array(list(range(1,48)))\n",
    "names_mor =np.array(list(range(1,7)))"
   ]
  },
  {
   "cell_type": "code",
   "execution_count": 516,
   "metadata": {},
   "outputs": [],
   "source": [
    "# Reading all files\n",
    "fourier = pd.read_csv('mfeat-fou',names = names_fou, delim_whitespace=True)\n",
    "profile_corr = pd.read_csv('mfeat-fac',names = names_fac, delim_whitespace=True)\n",
    "karhunen = pd.read_csv('mfeat-kar',names = names_kar, delim_whitespace=True)\n",
    "pixels = pd.read_csv('mfeat-pix',names = names_pix, delim_whitespace=True)\n",
    "zernike = pd.read_csv('mfeat-zer',names = names_zer, delim_whitespace=True)\n",
    "morpho = pd.read_csv('mfeat-mor',names = names_mor, delim_whitespace=True)"
   ]
  },
  {
   "cell_type": "code",
   "execution_count": 517,
   "metadata": {},
   "outputs": [],
   "source": [
    "# Calculating connectivity matrix using knn and neighbours are chosen by hyperparameter tuning\n",
    "connectivity_fou = kneighbors_graph(fourier, n_neighbors=57, mode='connectivity')\n",
    "connectivity_pro = kneighbors_graph(profile_corr, n_neighbors=57, mode='connectivity')\n",
    "connectivity_kar = kneighbors_graph(karhunen, n_neighbors=57, mode='connectivity')\n",
    "connectivity_pix = kneighbors_graph(pixels, n_neighbors=57, mode='connectivity')\n",
    "connectivity_zer = kneighbors_graph(zernike, n_neighbors=57, mode='connectivity')\n",
    "connectivity_mor = kneighbors_graph(morpho, n_neighbors=57, mode='connectivity')\n"
   ]
  },
  {
   "cell_type": "code",
   "execution_count": 519,
   "metadata": {},
   "outputs": [],
   "source": [
    "# Calculating Adjacency matrix\n",
    "Adj_fou = (1/2)*(connectivity_fou + connectivity_fou.T) \n",
    "Adj_pro = (1/2)*(connectivity_pro + connectivity_pro.T) \n",
    "Adj_kar = (1/2)*(connectivity_kar + connectivity_kar.T) \n",
    "Adj_pix = (1/2)*(connectivity_pix + connectivity_pix.T) \n",
    "Adj_zer = (1/2)*(connectivity_zer + connectivity_zer.T)  \n",
    "Adj_mor = (1/2)*(connectivity_mor + connectivity_mor.T)"
   ]
  },
  {
   "cell_type": "code",
   "execution_count": 522,
   "metadata": {},
   "outputs": [],
   "source": [
    "# Calculating normalized laplacian  \n",
    "lap_fou = sparse.csgraph.laplacian(csgraph=Adj_fou, normed=True)\n",
    "lap_pro = sparse.csgraph.laplacian(csgraph=Adj_pro, normed=True)\n",
    "lap_kar = sparse.csgraph.laplacian(csgraph=Adj_kar, normed=True)\n",
    "lap_pix = sparse.csgraph.laplacian(csgraph=Adj_pix, normed=True)\n",
    "lap_zer = sparse.csgraph.laplacian(csgraph=Adj_zer, normed=True)\n",
    "lap_mor = sparse.csgraph.laplacian(csgraph=Adj_mor, normed=True)\n",
    "lap_fou = lap_fou.toarray()\n",
    "lap_pro = lap_pro.toarray()\n",
    "lap_kar = lap_kar.toarray()\n",
    "lap_pix = lap_pix.toarray()\n",
    "lap_zer = lap_zer.toarray()\n",
    "lap_mor = lap_mor.toarray()"
   ]
  },
  {
   "cell_type": "code",
   "execution_count": 523,
   "metadata": {},
   "outputs": [],
   "source": [
    "# Calculating eigenvalues and eigenvectors of laplacian matrix\n",
    "fou_values,fou_vectors = linalg.eig(lap_fou)\n",
    "pro_values,pro_vectors = linalg.eig(lap_pro)\n",
    "kar_values,kar_vectors = linalg.eig(lap_kar)\n",
    "pix_values,pix_vectors = linalg.eig(lap_pix)\n",
    "zer_values,zer_vectors = linalg.eig(lap_zer)\n",
    "mor_values,mor_vectors = linalg.eig(lap_mor)"
   ]
  },
  {
   "cell_type": "code",
   "execution_count": 525,
   "metadata": {},
   "outputs": [],
   "source": [
    "# Sorting and making pairs of eigen values and eigen vectors\n",
    "eigenvals_sorted_fou = fou_values[np.argsort(fou_values)]\n",
    "eigenvecs_sorted_fou = fou_vectors[np.argsort(fou_values)]\n",
    "eigenvals_sorted_pro = pro_values[np.argsort(pro_values)]\n",
    "eigenvecs_sorted_pro = pro_vectors[np.argsort(pro_values)]\n",
    "eigenvals_sorted_kar = kar_values[np.argsort(kar_values)]\n",
    "eigenvecs_sorted_kar = kar_vectors[np.argsort(kar_values)]\n",
    "eigenvals_sorted_pix = pix_values[np.argsort(pix_values)]\n",
    "eigenvecs_sorted_pix = pix_vectors[np.argsort(pix_values)]\n",
    "eigenvals_sorted_zer = zer_values[np.argsort(zer_values)]\n",
    "eigenvecs_sorted_zer = zer_vectors[np.argsort(zer_values)]\n",
    "eigenvals_sorted_mor = mor_values[np.argsort(mor_values)]\n",
    "eigenvecs_sorted_mor = mor_vectors[np.argsort(mor_values)]\n",
    "fou_eig_pairs = [(np.real(eigenvals_sorted_fou[i]), np.real(eigenvecs_sorted_fou[i])) for i in range(len(fou_values))]\n",
    "pro_eig_pairs = [(np.real(eigenvals_sorted_pro[i]), np.real(eigenvecs_sorted_pro[i])) for i in range(len(pro_values))]\n",
    "kar_eig_pairs = [(np.real(eigenvals_sorted_kar[i]), np.real(eigenvecs_sorted_kar[i])) for i in range(len(kar_values))]\n",
    "pix_eig_pairs = [(np.real(eigenvals_sorted_pix[i]), np.real(eigenvecs_sorted_pix[i])) for i in range(len(pix_values))]\n",
    "zer_eig_pairs = [(np.real(eigenvals_sorted_zer[i]), np.real(eigenvecs_sorted_zer[i])) for i in range(len(zer_values))]\n",
    "mor_eig_pairs = [(np.real(eigenvals_sorted_mor[i]), np.real(eigenvecs_sorted_mor[i])) for i in range(len(mor_values))]"
   ]
  },
  {
   "cell_type": "code",
   "execution_count": 548,
   "metadata": {},
   "outputs": [],
   "source": [
    "# Converting array to dataframe and taking only first 10 vectors\n",
    "fou_transformed = pd.DataFrame(np.real(eigenvecs_sorted_fou[:, 1:11]))\n",
    "pro_transformed = pd.DataFrame(np.real(eigenvecs_sorted_pro[:, 1:11]))\n",
    "kar_transformed = pd.DataFrame(np.real(eigenvecs_sorted_kar[:, 1:11]))\n",
    "pix_transformed = pd.DataFrame(np.real(eigenvecs_sorted_pix[:, 1:11]))\n",
    "zer_transformed = pd.DataFrame(np.real(eigenvecs_sorted_zer[:, 1:11]))\n",
    "mor_transformed = pd.DataFrame(np.real(eigenvecs_sorted_mor[:, 1:11]))"
   ]
  },
  {
   "cell_type": "code",
   "execution_count": 550,
   "metadata": {},
   "outputs": [],
   "source": [
    "# Importing library for k-means\n",
    "from sklearn.cluster import KMeans"
   ]
  },
  {
   "cell_type": "code",
   "execution_count": 551,
   "metadata": {},
   "outputs": [],
   "source": [
    "# Making objects for k-means\n",
    "kmeans_fou = KMeans(n_clusters=10)\n",
    "kmeans_pro = KMeans(n_clusters=10)\n",
    "kmeans_kar = KMeans(n_clusters=10)\n",
    "kmeans_pix = KMeans(n_clusters=10)\n",
    "kmeans_zer = KMeans(n_clusters=10)\n",
    "kmeans_mor = KMeans(n_clusters=10)"
   ]
  },
  {
   "cell_type": "code",
   "execution_count": 552,
   "metadata": {},
   "outputs": [
    {
     "data": {
      "text/plain": [
       "KMeans(algorithm='auto', copy_x=True, init='random', max_iter=300,\n",
       "       n_clusters=10, n_init=10, n_jobs=None, precompute_distances='auto',\n",
       "       random_state=None, tol=0.0001, verbose=0)"
      ]
     },
     "execution_count": 552,
     "metadata": {},
     "output_type": "execute_result"
    }
   ],
   "source": [
    "# Fitting data to k-means object\n",
    "kmeans_fou.fit(fou_transformed)\n",
    "kmeans_pro.fit(pro_transformed)\n",
    "kmeans_kar.fit(kar_transformed)\n",
    "kmeans_pix.fit(pix_transformed)\n",
    "kmeans_zer.fit(zer_transformed)\n",
    "kmeans_mor.fit(mor_transformed)"
   ]
  },
  {
   "cell_type": "code",
   "execution_count": 553,
   "metadata": {},
   "outputs": [],
   "source": [
    "# Taking labels formed by k-means\n",
    "labels_fou = kmeans_fou.labels_\n",
    "labels_pro = kmeans_pro.labels_\n",
    "labels_kar = kmeans_kar.labels_\n",
    "labels_pix = kmeans_pix.labels_\n",
    "labels_zer = kmeans_zer.labels_\n",
    "labels_mor = kmeans_mor.labels_"
   ]
  },
  {
   "cell_type": "code",
   "execution_count": 554,
   "metadata": {},
   "outputs": [],
   "source": [
    "# True labels taken from data description\n",
    "labels_true = np.repeat(np.arange(0,10),200)"
   ]
  },
  {
   "cell_type": "code",
   "execution_count": 555,
   "metadata": {},
   "outputs": [],
   "source": [
    "# Import library for ARI value calculation\n",
    "from sklearn.metrics import adjusted_rand_score"
   ]
  },
  {
   "cell_type": "code",
   "execution_count": 557,
   "metadata": {},
   "outputs": [
    {
     "name": "stdout",
     "output_type": "stream",
     "text": [
      "In SC, ARI for mfeat-fou is 0.2337370619939308\n",
      "In SC, ARI for mfeat-pro is 0.20025879214990658\n",
      "In SC, ARI for mfeat-kar is 0.3374651506140877\n",
      "In SC, ARI for mfeat-pix is 0.28049657334235634\n",
      "In SC, ARI for mfeat-zer is 0.22964150272955774\n",
      "In SC, ARI for mfeat-mor is 0.11486486079330274\n"
     ]
    }
   ],
   "source": [
    "# Printing ARI values\n",
    "print(\"In SC, ARI for mfeat-fou is {}\".format(adjusted_rand_score(labels_true, labels_fou)))\n",
    "print(\"In SC, ARI for mfeat-pro is {}\".format(adjusted_rand_score(labels_true, labels_pro)))\n",
    "print(\"In SC, ARI for mfeat-kar is {}\".format(adjusted_rand_score(labels_true, labels_kar)))\n",
    "print(\"In SC, ARI for mfeat-pix is {}\".format(adjusted_rand_score(labels_true, labels_pix)))\n",
    "print(\"In SC, ARI for mfeat-zer is {}\".format(adjusted_rand_score(labels_true, labels_zer)))\n",
    "print(\"In SC, ARI for mfeat-mor is {}\".format(adjusted_rand_score(labels_true, labels_mor)))"
   ]
  },
  {
   "cell_type": "code",
   "execution_count": null,
   "metadata": {},
   "outputs": [],
   "source": []
  }
 ],
 "metadata": {
  "kernelspec": {
   "display_name": "Python 3",
   "language": "python",
   "name": "python3"
  },
  "language_info": {
   "codemirror_mode": {
    "name": "ipython",
    "version": 3
   },
   "file_extension": ".py",
   "mimetype": "text/x-python",
   "name": "python",
   "nbconvert_exporter": "python",
   "pygments_lexer": "ipython3",
   "version": "3.7.4"
  }
 },
 "nbformat": 4,
 "nbformat_minor": 2
}
