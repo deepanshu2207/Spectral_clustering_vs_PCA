{
 "cells": [
  {
   "cell_type": "code",
   "execution_count": 1,
   "metadata": {},
   "outputs": [],
   "source": [
    "# Import basic libraries\n",
    "import pandas as pd\n",
    "import numpy as np"
   ]
  },
  {
   "cell_type": "code",
   "execution_count": 2,
   "metadata": {},
   "outputs": [],
   "source": [
    "# Making array for column names\n",
    "names_fou =np.array(list(range(1,77)))\n",
    "names_fac =np.array(list(range(1,217)))\n",
    "names_kar =np.array(list(range(1,65)))\n",
    "names_pix =np.array(list(range(1,241)))\n",
    "names_zer =np.array(list(range(1,48)))\n",
    "names_mor =np.array(list(range(1,7)))"
   ]
  },
  {
   "cell_type": "code",
   "execution_count": 3,
   "metadata": {},
   "outputs": [],
   "source": [
    "# Read all the files\n",
    "fourier = pd.read_csv('mfeat-fou',names = names_fou, delim_whitespace=True)\n",
    "profile_corr = pd.read_csv('mfeat-fac',names = names_fac, delim_whitespace=True)\n",
    "karhunen = pd.read_csv('mfeat-kar',names = names_kar, delim_whitespace=True)\n",
    "pixels = pd.read_csv('mfeat-pix',names = names_pix, delim_whitespace=True)\n",
    "zernike = pd.read_csv('mfeat-zer',names = names_zer, delim_whitespace=True)\n",
    "morpho = pd.read_csv('mfeat-mor',names = names_mor, delim_whitespace=True)"
   ]
  },
  {
   "cell_type": "code",
   "execution_count": 6,
   "metadata": {},
   "outputs": [],
   "source": [
    "# Standardizing the data \n",
    "fourier_std= (fourier - fourier.mean(axis=0))/(fourier.std(axis=0))\n",
    "profile_corr_std = (profile_corr - profile_corr.mean(axis=0))/(profile_corr.std(axis=0))\n",
    "karhunen_std = (karhunen - karhunen.mean(axis=0))/(karhunen.std(axis=0))\n",
    "pixels_std = (pixels - pixels.mean(axis=0))/(pixels.std(axis=0))\n",
    "zernike_std = (zernike - zernike.mean(axis=0))/(zernike.std(axis=0))\n",
    "morpho_std = (morpho - morpho.mean(axis=0))/(morpho.std(axis=0))"
   ]
  },
  {
   "cell_type": "code",
   "execution_count": 7,
   "metadata": {},
   "outputs": [],
   "source": [
    "# Calculating covariance matrix\n",
    "fou_cov = fourier_std.cov()\n",
    "pro_cov = profile_corr_std.cov()\n",
    "kar_cov = karhunen_std.cov()\n",
    "pix_cov = pixels_std.cov()\n",
    "zer_cov = zernike_std.cov()\n",
    "mor_cov = morpho_std.cov()"
   ]
  },
  {
   "cell_type": "code",
   "execution_count": 8,
   "metadata": {},
   "outputs": [],
   "source": [
    "# Calculating eigen values and eigen vectors of covariance matrix\n",
    "fou_values,fou_vectors = np.linalg.eig(fou_cov)\n",
    "pro_values,pro_vectors = np.linalg.eig(pro_cov)\n",
    "kar_values,kar_vectors = np.linalg.eig(kar_cov)\n",
    "pix_values,pix_vectors = np.linalg.eig(pix_cov)\n",
    "zer_values,zer_vectors = np.linalg.eig(zer_cov)\n",
    "mor_values,mor_vectors = np.linalg.eig(mor_cov)"
   ]
  },
  {
   "cell_type": "code",
   "execution_count": 9,
   "metadata": {},
   "outputs": [],
   "source": [
    "# Making a list of (eigenvalue, eigenvector) tuples\n",
    "fou_eig_pairs = [(np.abs(fou_values[i]), fou_vectors[i]) for i in range(len(fou_values))]\n",
    "pro_eig_pairs = [(np.abs(pro_values[i]), pro_vectors[i]) for i in range(len(pro_values))]\n",
    "kar_eig_pairs = [(np.abs(kar_values[i]), kar_vectors[i]) for i in range(len(kar_values))]\n",
    "pix_eig_pairs = [(np.abs(pix_values[i]), pix_vectors[i]) for i in range(len(pix_values))]\n",
    "zer_eig_pairs = [(np.abs(zer_values[i]), zer_vectors[i]) for i in range(len(zer_values))]\n",
    "mor_eig_pairs = [(np.abs(mor_values[i]), mor_vectors[i]) for i in range(len(mor_values))]\n",
    "\n",
    "# Sorting the (eigenvalue, eigenvector) tuples from high to low\n",
    "fou_eig_pairs.sort(key=lambda x: x[0], reverse=True)\n",
    "pro_eig_pairs.sort(key=lambda x: x[0], reverse=True)\n",
    "kar_eig_pairs.sort(key=lambda x: x[0], reverse=True)\n",
    "pix_eig_pairs.sort(key=lambda x: x[0], reverse=True)\n",
    "zer_eig_pairs.sort(key=lambda x: x[0], reverse=True)\n",
    "mor_eig_pairs.sort(key=lambda x: x[0], reverse=True)\n"
   ]
  },
  {
   "cell_type": "code",
   "execution_count": 10,
   "metadata": {},
   "outputs": [],
   "source": [
    "# Reshaping and choosing only first 10 vectors \n",
    "fou_matrix_w = fou_eig_pairs[0][1].reshape(1,76)\n",
    "pro_matrix_w = pro_eig_pairs[0][1].reshape(1,216)\n",
    "kar_matrix_w = kar_eig_pairs[0][1].reshape(1,64)\n",
    "pix_matrix_w = pix_eig_pairs[0][1].reshape(1,240)\n",
    "zer_matrix_w = zer_eig_pairs[0][1].reshape(1,47)\n",
    "mor_matrix_w = mor_eig_pairs[0][1].reshape(1,6)\n",
    "\n",
    "for i in range(1,10):\n",
    "    fou_matrix_w = np.vstack((fou_matrix_w,fou_eig_pairs[i][1].reshape(1,76)))\n",
    "    pro_matrix_w = np.vstack((pro_matrix_w,pro_eig_pairs[i][1].reshape(1,216)))\n",
    "    kar_matrix_w = np.vstack((kar_matrix_w,kar_eig_pairs[i][1].reshape(1,64)))\n",
    "    pix_matrix_w = np.vstack((pix_matrix_w,pix_eig_pairs[i][1].reshape(1,240)))\n",
    "    zer_matrix_w = np.vstack((zer_matrix_w,zer_eig_pairs[i][1].reshape(1,47)))\n",
    "for i in range(1,6):    \n",
    "    mor_matrix_w = np.vstack((mor_matrix_w,mor_eig_pairs[i][1].reshape(1,6)))"
   ]
  },
  {
   "cell_type": "code",
   "execution_count": 25,
   "metadata": {},
   "outputs": [],
   "source": [
    "# Transformation of data\n",
    "fou_transformed = np.real(fourier.dot(fou_matrix_w.T))\n",
    "pro_transformed = np.real(profile_corr.dot(pro_matrix_w.T))\n",
    "kar_transformed = np.real(karhunen.dot(kar_matrix_w.T))\n",
    "pix_transformed = np.real(pixels.dot(pix_matrix_w.T))\n",
    "zer_transformed = np.real(zernike.dot(zer_matrix_w.T))\n",
    "mor_transformed = np.real(morpho.dot(mor_matrix_w.T))"
   ]
  },
  {
   "cell_type": "code",
   "execution_count": 26,
   "metadata": {},
   "outputs": [],
   "source": [
    "# Import library for k-means\n",
    "from sklearn.cluster import KMeans"
   ]
  },
  {
   "cell_type": "code",
   "execution_count": 27,
   "metadata": {},
   "outputs": [],
   "source": [
    "# Making object for k-means\n",
    "kmeans_fou = KMeans(n_clusters=10)\n",
    "kmeans_pro = KMeans(n_clusters=10)\n",
    "kmeans_kar = KMeans(n_clusters=10)\n",
    "kmeans_pix = KMeans(n_clusters=10)\n",
    "kmeans_zer = KMeans(n_clusters=10)\n",
    "kmeans_mor = KMeans(n_clusters=10)"
   ]
  },
  {
   "cell_type": "code",
   "execution_count": 28,
   "metadata": {},
   "outputs": [
    {
     "data": {
      "text/plain": [
       "KMeans(algorithm='auto', copy_x=True, init='k-means++', max_iter=300,\n",
       "       n_clusters=10, n_init=10, n_jobs=None, precompute_distances='auto',\n",
       "       random_state=None, tol=0.0001, verbose=0)"
      ]
     },
     "execution_count": 28,
     "metadata": {},
     "output_type": "execute_result"
    }
   ],
   "source": [
    "# Fitting data to k-means object\n",
    "kmeans_fou.fit(fou_transformed)\n",
    "kmeans_pro.fit(pro_transformed)\n",
    "kmeans_kar.fit(kar_transformed)\n",
    "kmeans_pix.fit(pix_transformed)\n",
    "kmeans_zer.fit(zer_transformed)\n",
    "kmeans_mor.fit(mor_transformed)"
   ]
  },
  {
   "cell_type": "code",
   "execution_count": 29,
   "metadata": {},
   "outputs": [],
   "source": [
    "# Labels assigned by k-means to each data point\n",
    "labels_fou = kmeans_fou.labels_\n",
    "labels_pro = kmeans_pro.labels_\n",
    "labels_kar = kmeans_kar.labels_\n",
    "labels_pix = kmeans_pix.labels_\n",
    "labels_zer = kmeans_zer.labels_\n",
    "labels_mor = kmeans_mor.labels_"
   ]
  },
  {
   "cell_type": "code",
   "execution_count": 30,
   "metadata": {},
   "outputs": [],
   "source": [
    "# True labels as mentioned in data description\n",
    "labels_true = np.repeat(np.arange(0,10),200)"
   ]
  },
  {
   "cell_type": "code",
   "execution_count": 31,
   "metadata": {},
   "outputs": [],
   "source": [
    "# Import library to calculate ARI value\n",
    "from sklearn.metrics import adjusted_rand_score"
   ]
  },
  {
   "cell_type": "code",
   "execution_count": 32,
   "metadata": {},
   "outputs": [
    {
     "name": "stdout",
     "output_type": "stream",
     "text": [
      "In PCA, ARI for mfeat-fou is 0.3808427615472246\n",
      "In PCA, ARI for mfeat-pro is 0.37196679300981667\n",
      "In PCA, ARI for mfeat-kar is 0.3698393500158109\n",
      "In PCA, ARI for mfeat-pix is 0.22569910237712898\n",
      "In PCA, ARI for mfeat-zer is 0.2114436519991947\n",
      "In PCA, ARI for mfeat-mor is 0.3137473896944475\n"
     ]
    }
   ],
   "source": [
    "# Printing all values\n",
    "print(\"In PCA, ARI for mfeat-fou is {}\".format(adjusted_rand_score(labels_true, labels_fou)))\n",
    "print(\"In PCA, ARI for mfeat-pro is {}\".format(adjusted_rand_score(labels_true, labels_pro)))\n",
    "print(\"In PCA, ARI for mfeat-kar is {}\".format(adjusted_rand_score(labels_true, labels_kar)))\n",
    "print(\"In PCA, ARI for mfeat-pix is {}\".format(adjusted_rand_score(labels_true, labels_pix)))\n",
    "print(\"In PCA, ARI for mfeat-zer is {}\".format(adjusted_rand_score(labels_true, labels_zer)))\n",
    "print(\"In PCA, ARI for mfeat-mor is {}\".format(adjusted_rand_score(labels_true, labels_mor)))"
   ]
  },
  {
   "cell_type": "code",
   "execution_count": null,
   "metadata": {},
   "outputs": [],
   "source": []
  }
 ],
 "metadata": {
  "kernelspec": {
   "display_name": "Python 3",
   "language": "python",
   "name": "python3"
  },
  "language_info": {
   "codemirror_mode": {
    "name": "ipython",
    "version": 3
   },
   "file_extension": ".py",
   "mimetype": "text/x-python",
   "name": "python",
   "nbconvert_exporter": "python",
   "pygments_lexer": "ipython3",
   "version": "3.7.4"
  }
 },
 "nbformat": 4,
 "nbformat_minor": 2
}
